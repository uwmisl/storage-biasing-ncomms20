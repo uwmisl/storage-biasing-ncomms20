{
 "cells": [
  {
   "cell_type": "code",
   "execution_count": 1,
   "metadata": {
    "collapsed": true
   },
   "outputs": [],
   "source": [
    "%matplotlib inline\n",
    "import matplotlib.pyplot as plt\n",
    "import numpy as np\n",
    "import pandas as pd\n",
    "from scipy.optimize import curve_fit\n",
    "from scipy import stats"
   ]
  },
  {
   "cell_type": "code",
   "execution_count": 2,
   "metadata": {
    "collapsed": true
   },
   "outputs": [],
   "source": [
    "def compute_FFC(base_run, pcr_run):\n",
    "    a = base_run/np.sum(base_run)\n",
    "    b = pcr_run/np.sum(pcr_run)\n",
    "    old_settings = np.seterr(divide='ignore',invalid='ignore')\n",
    "    ampratio = b/a\n",
    "    return ampratio\n",
    "\n",
    "def func(x,a,b):\n",
    "    return a*x+b"
   ]
  },
  {
   "cell_type": "code",
   "execution_count": 3,
   "metadata": {
    "collapsed": true
   },
   "outputs": [],
   "source": [
    "\"\"\"\n",
    "ready-to-sequence pool\n",
    "run36: biased chip; no PCR\n",
    "run42: biased chip; PCR\n",
    "\"\"\"\n",
    "counts36 = np.load(\"./data/run36.npy\")\n",
    "counts42 = np.load(\"./data/run42.npy\")"
   ]
  },
  {
   "cell_type": "code",
   "execution_count": 4,
   "metadata": {
    "collapsed": true
   },
   "outputs": [],
   "source": [
    "seqs = []\n",
    "with open(\"./seqs/P9-20161114-150-62-1.6M-ID37-AdapterSequencingPrimer-IndexAdapter.txt\") as fr:\n",
    "    for line in fr:\n",
    "        seqs.append(line.rstrip(\"\\n\").split(\"-\")[1])\n",
    "        \n",
    "GCs = []\n",
    "for seq in seqs:\n",
    "    GCCounts = seq.count('G') + seq.count('C')\n",
    "    GCs.append(float(GCCounts)/len(seq))\n",
    "GC_array = np.array(GCs)"
   ]
  },
  {
   "cell_type": "code",
   "execution_count": 5,
   "metadata": {
    "collapsed": false
   },
   "outputs": [
    {
     "name": "stdout",
     "output_type": "stream",
     "text": [
      "slope: 5.233144119255713e-05\n",
      "p_value: 0.7619775547678641\n",
      "r-squared: 5.972257451638687e-08\n"
     ]
    }
   ],
   "source": [
    "ampratio = np.log2(compute_FFC(counts36, counts42))\n",
    "ffc = ampratio[np.isfinite(ampratio)]\n",
    "gc = GC_array[np.isfinite(ampratio)]\n",
    "xdata, ydata = 100*gc, ffc\n",
    "slope, intercept, r_value, p_value, std_err = stats.linregress(xdata, ydata)\n",
    "y_fit = func(xdata, slope, intercept)\n",
    "print \"slope:\", slope\n",
    "print \"p_value:\", p_value\n",
    "print \"r-squared:\", r_value**2"
   ]
  },
  {
   "cell_type": "code",
   "execution_count": 6,
   "metadata": {
    "collapsed": false
   },
   "outputs": [
    {
     "data": {
      "image/png": "[encoded data removed]",
      "text/plain": [
       "<matplotlib.figure.Figure at 0x12cdbc250>"
      ]
     },
     "metadata": {},
     "output_type": "display_data"
    }
   ],
   "source": [
    "plt.matplotlib.rcParams.update({'font.size':22})\n",
    "fig1, (ax1) = plt.subplots(nrows=1, ncols=1, figsize=(6,4))\n",
    "ax1.plot(xdata, ydata, '.', color = 'b', label=\"data\")\n",
    "ax1.plot(xdata, y_fit, 'r-', label='fit')\n",
    "ax1.set_xlabel('GC content (%)')\n",
    "ax1.set_ylabel('log$_2$(Q)')\n",
    "ax1.set_ylim([-6, 6])\n",
    "#ax1.set_xlim([25, 75])\n",
    "#ax1.set_xticks(np.linspace(25,75,6))\n",
    "ax1.set_yticks(np.linspace(-6,6,6))\n",
    "plt.savefig('./figs/fig_GC_VS_ampLog_NHMO.png', dpi=300, bbox_inches='tight', format='png')"
   ]
  },
  {
   "cell_type": "code",
   "execution_count": 7,
   "metadata": {
    "collapsed": false
   },
   "outputs": [
    {
     "ename": "NameError",
     "evalue": "name 'df' is not defined",
     "output_type": "error",
     "traceback": [
      "\u001b[0;31m---------------------------------------------------------------------------\u001b[0m",
      "\u001b[0;31mNameError\u001b[0m                                 Traceback (most recent call last)",
      "\u001b[0;32m<ipython-input-7-ddc52c5d68f7>\u001b[0m in \u001b[0;36m<module>\u001b[0;34m()\u001b[0m\n\u001b[1;32m      1\u001b[0m \u001b[0;32mimport\u001b[0m \u001b[0mseaborn\u001b[0m \u001b[0;32mas\u001b[0m \u001b[0msns\u001b[0m\u001b[0;34m\u001b[0m\u001b[0m\n\u001b[1;32m      2\u001b[0m \u001b[0mplt\u001b[0m\u001b[0;34m.\u001b[0m\u001b[0mmatplotlib\u001b[0m\u001b[0;34m.\u001b[0m\u001b[0mrcParams\u001b[0m\u001b[0;34m.\u001b[0m\u001b[0mupdate\u001b[0m\u001b[0;34m(\u001b[0m\u001b[0;34m{\u001b[0m\u001b[0;34m'font.size'\u001b[0m\u001b[0;34m:\u001b[0m\u001b[0;36m22\u001b[0m\u001b[0;34m}\u001b[0m\u001b[0;34m)\u001b[0m\u001b[0;34m\u001b[0m\u001b[0m\n\u001b[0;32m----> 3\u001b[0;31m \u001b[0mg\u001b[0m \u001b[0;34m=\u001b[0m \u001b[0msns\u001b[0m\u001b[0;34m.\u001b[0m\u001b[0mJointGrid\u001b[0m\u001b[0;34m(\u001b[0m\u001b[0mx\u001b[0m\u001b[0;34m=\u001b[0m\u001b[0;34m\"GC content (%)\"\u001b[0m\u001b[0;34m,\u001b[0m \u001b[0my\u001b[0m\u001b[0;34m=\u001b[0m\u001b[0;34m\"log$_2$(Q)\"\u001b[0m\u001b[0;34m,\u001b[0m \u001b[0mdata\u001b[0m\u001b[0;34m=\u001b[0m\u001b[0mdf\u001b[0m\u001b[0;34m)\u001b[0m\u001b[0;34m\u001b[0m\u001b[0m\n\u001b[0m\u001b[1;32m      4\u001b[0m \u001b[0msns\u001b[0m\u001b[0;34m.\u001b[0m\u001b[0mset\u001b[0m\u001b[0;34m(\u001b[0m\u001b[0mfont_scale\u001b[0m\u001b[0;34m=\u001b[0m\u001b[0;36m1.5\u001b[0m\u001b[0;34m)\u001b[0m\u001b[0;34m\u001b[0m\u001b[0m\n\u001b[1;32m      5\u001b[0m \u001b[0mg\u001b[0m \u001b[0;34m=\u001b[0m \u001b[0mg\u001b[0m\u001b[0;34m.\u001b[0m\u001b[0mplot_joint\u001b[0m\u001b[0;34m(\u001b[0m\u001b[0mplt\u001b[0m\u001b[0;34m.\u001b[0m\u001b[0mscatter\u001b[0m\u001b[0;34m,\u001b[0m \u001b[0mcolor\u001b[0m\u001b[0;34m=\u001b[0m\u001b[0;34m\"b\"\u001b[0m\u001b[0;34m,\u001b[0m \u001b[0medgecolor\u001b[0m\u001b[0;34m=\u001b[0m\u001b[0;34m\"white\"\u001b[0m\u001b[0;34m)\u001b[0m\u001b[0;34m\u001b[0m\u001b[0m\n",
      "\u001b[0;31mNameError\u001b[0m: name 'df' is not defined"
     ]
    }
   ],
   "source": [
    "import seaborn as sns\n",
    "plt.matplotlib.rcParams.update({'font.size':22})\n",
    "g = sns.JointGrid(x=\"GC content (%)\", y=\"log$_2$(Q)\", data=df)\n",
    "sns.set(font_scale=1.5)\n",
    "g = g.plot_joint(plt.scatter, color=\"b\", edgecolor=\"white\")\n",
    "_ = g.ax_marg_x.hist(df[\"GC content (%)\"], color=\"b\", alpha=.6, bins=28)\n",
    "_ = g.ax_marg_y.hist(df[\"log$_2$(Q)\"], color=\"b\", alpha=.6,orientation=\"horizontal\", bins=40)\n",
    "plt.xlim([20,80])\n",
    "plt.savefig('./figs/fig_GC_VS_ampLog_NHMO_dist2.png', dpi=300, bbox_inches='tight', format='png')"
   ]
  },
  {
   "cell_type": "code",
   "execution_count": null,
   "metadata": {
    "collapsed": true
   },
   "outputs": [],
   "source": []
  }
 ],
 "metadata": {
  "kernelspec": {
   "display_name": "Python 2",
   "language": "python",
   "name": "python2"
  },
  "language_info": {
   "codemirror_mode": {
    "name": "ipython",
    "version": 2
   },
   "file_extension": ".py",
   "mimetype": "text/x-python",
   "name": "python",
   "nbconvert_exporter": "python",
   "pygments_lexer": "ipython2",
   "version": "2.7.12"
  }
 },
 "nbformat": 4,
 "nbformat_minor": 0
}
